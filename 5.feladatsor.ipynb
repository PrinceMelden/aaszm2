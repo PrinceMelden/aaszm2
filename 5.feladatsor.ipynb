{
 "cells": [
  {
   "cell_type": "markdown",
   "metadata": {},
   "source": [
    "### 5. Feladatsor\n",
    "\n",
    "bevezető a diffegyenletek numerikus megoldásába"
   ]
  },
  {
   "cell_type": "markdown",
   "metadata": {},
   "source": [
    "#### Dahlquist-féle tesztegyenlet\n",
    "\n",
    "$$\n",
    "\\begin{align}\n",
    "     \\dot x = \\lambda x\n",
    "\\end{align}\n",
    "$$\n",
    "\n",
    "ahol $\\lambda \\in \\mathbb{C}$ paraméter."
   ]
  },
  {
   "cell_type": "markdown",
   "metadata": {},
   "source": [
    "#### 1. Feladat\n",
    "\n",
    "Oldjuk meg ezt a feladatot a $[0,1]$ intervallumon $\\lambda \\in \\{-1, 0, 1\\}$ paraméterek mellett, $x(0) = 1$ kezdetiértékkel a programcsomagunk beépített függvényei segítségével (pl. `ode45`). Ábrázoljuk a kapott megoldásokat."
   ]
  },
  {
   "cell_type": "code",
   "execution_count": null,
   "metadata": {},
   "outputs": [],
   "source": [
    "function dXdt = f_test_eq(_, X)\n",
    "\n",
    "end"
   ]
  },
  {
   "cell_type": "markdown",
   "metadata": {},
   "source": [
    "#### 2. feladat\n",
    "\n",
    "Oldjuk meg a fenti paraméterezésű kezdetiérték-feladatot a programcsomagunk beépített függvényei segítségével (pl. `ode45`). Ábrázoljuk a kapott megoldásokat."
   ]
  },
  {
   "cell_type": "code",
   "execution_count": null,
   "metadata": {},
   "outputs": [],
   "source": []
  },
  {
   "cell_type": "markdown",
   "metadata": {},
   "source": [
    "#### Lotka-Volterra modell <a href=\"http://www.tankonyvtar.hu/hu/tartalom/tamop425/0038_informatika_Geda_Gabor-Modellezes_es_szimulacio_az_oktatasban/ch04s03.html\">(zsákmány-ragadozó modell, 1926)</a>\n",
    "\n",
    "$$\n",
    "\\begin{align}\n",
    "     x'(t)&=\\ \\ \\alpha x(t)-\\beta x(t)y(t), \\\\\n",
    "     y'(t)&=-\\gamma y(t)+\\delta x(t)y(t),\n",
    "\\end{align}\n",
    "$$\n",
    "\n",
    "ahol $0 \\leq t \\leq T$ az időt, $x(t)$ a zsákmány és $y(t)$ a ragadozók számát, \n",
    "$\\alpha, \\beta,\\gamma,\\delta \\in\\mathbb{R}^+$ konstansok pedig az ezek közötti interakciót modellezi.\n",
    "\n",
    "Egy lehetséges paraméterezés a következő:"
   ]
  },
  {
   "cell_type": "code",
   "execution_count": null,
   "metadata": {},
   "outputs": [],
   "source": [
    "[alfa, beta, gamma, delta] = {.6, 3e-5, .6, 1.5e-5}{:};\n",
    "[_, T] = {0, 50}{:};\n",
    "[x0, y0] = {90000, 2000}{:};"
   ]
  },
  {
   "cell_type": "code",
   "execution_count": null,
   "metadata": {},
   "outputs": [],
   "source": [
    "function dXdt = f_lotka_volterra(t, X)\n",
    "    [alfa, beta, gamma, delta] = {.6, 3e-5, .6, 1.5e-5}{:};\n",
    "\n",
    "end"
   ]
  },
  {
   "cell_type": "code",
   "execution_count": null,
   "metadata": {},
   "outputs": [],
   "source": []
  },
  {
   "cell_type": "markdown",
   "metadata": {},
   "source": [
    "A megoldást ábrázoljuk a fázis-síkon is."
   ]
  },
  {
   "cell_type": "code",
   "execution_count": null,
   "metadata": {},
   "outputs": [],
   "source": []
  },
  {
   "cell_type": "markdown",
   "metadata": {},
   "source": [
    "Igényeljünk pontosabb megoldást, majd ezt is ábrázoljuk."
   ]
  },
  {
   "cell_type": "code",
   "execution_count": null,
   "metadata": {},
   "outputs": [],
   "source": [
    "odeset('AbsTol', 1e-10, 'RelTol', 1e-10)"
   ]
  },
  {
   "cell_type": "markdown",
   "metadata": {},
   "source": [
    "#### 3. feladat\n",
    "\n",
    "Implementáljuk az Explicit-Euler módszert, majd próbáljuk is ki a korábbi feladatokon.\n",
    "\n",
    "Bemeneti paraméterek legyenek a következők:\n",
    "* időpontok, ahol a numerikus megoldás érdekel minket (lehet egyenletes),\n",
    "* a diffegyenletet leíró vektormező,\n",
    "* kezdetiérték."
   ]
  },
  {
   "cell_type": "code",
   "execution_count": null,
   "metadata": {},
   "outputs": [],
   "source": [
    "function [ts, ys] = explicit_euler(ts, f, y0)\n",
    "\n",
    "end"
   ]
  },
  {
   "cell_type": "code",
   "execution_count": null,
   "metadata": {},
   "outputs": [],
   "source": []
  },
  {
   "cell_type": "markdown",
   "metadata": {},
   "source": [
    "#### 4. feladat\n",
    "\n",
    "Implementáljuk \"a Runge-Kutta\" módszert, majd próbáljuk is ki a korábbi feladatokon.\n",
    "\n",
    "Bemeneti paraméterek legyenek a következők:\n",
    "* időpontok, ahol a numerikus megoldás érdekel minket (lehet egyenletes),\n",
    "* a diffegyenletet leíró vektormező,\n",
    "* kezdetiérték."
   ]
  },
  {
   "cell_type": "code",
   "execution_count": null,
   "metadata": {},
   "outputs": [],
   "source": []
  }
 ],
 "metadata": {
  "kernelspec": {
   "display_name": "Octave",
   "language": "octave",
   "name": "octave"
  },
  "language_info": {
   "file_extension": ".m",
   "help_links": [
    {
     "text": "GNU Octave",
     "url": "https://www.gnu.org/software/octave/support.html"
    },
    {
     "text": "Octave Kernel",
     "url": "https://github.com/Calysto/octave_kernel"
    },
    {
     "text": "MetaKernel Magics",
     "url": "https://metakernel.readthedocs.io/en/latest/source/README.html"
    }
   ],
   "mimetype": "text/x-octave",
   "name": "octave",
   "version": "5.2.0"
  }
 },
 "nbformat": 4,
 "nbformat_minor": 4
}
