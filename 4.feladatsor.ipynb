{
 "cells": [
  {
   "cell_type": "markdown",
   "metadata": {},
   "source": [
    "### 4. Feladatsor\n",
    "\n",
    "Sajátértékek, sajátvektorok közelítése"
   ]
  },
  {
   "cell_type": "markdown",
   "metadata": {},
   "source": [
    "#### Gersgorin-körök\n",
    "\n",
    "**Tétel:** Egy $A = (a_{ij})_{i,j = 1\\ldots n}$ mátrix \n",
    "$$\n",
    "G_i = \\left\\{ z \\in \\mathbb{C}: |z - a_{ii}| \\leq \\sum_{j, i\\neq j} |a_{ij}| \\right\\} \\quad (i=1\\ldots n)\n",
    "$$\n",
    "\n",
    "képlettel definiált Gersgorin-köreinek uniója tartalmazza a mátrix sajátértékeit."
   ]
  },
  {
   "cell_type": "markdown",
   "metadata": {},
   "source": [
    "#### 1. feladat\n",
    "\n",
    "Írjunk függvényt, ami ábrázolja a bemeneti mátrix Gersgorin-köreit és a sajátértékeit."
   ]
  },
  {
   "cell_type": "code",
   "execution_count": 17,
   "metadata": {},
   "outputs": [],
   "source": [
    "function h = gersgorin(A)\n",
    "    hold on\n",
    "    th = 0:pi/50:2*pi;\n",
    "    for i=1:rank(A)\n",
    "        r = 0;\n",
    "        for j=1:rank(A)\n",
    "            r = r + A(i,j);\n",
    "        end\n",
    "        r = r - A(i,i);\n",
    "        xunit = r * cos(th) + A(i,i);\n",
    "        yunit = r * sin(th);\n",
    "        h = plot(xunit, yunit);\n",
    "    end\n",
    "end"
   ]
  },
  {
   "cell_type": "code",
   "execution_count": 13,
   "metadata": {},
   "outputs": [
    {
     "name": "stdout",
     "output_type": "stream",
     "text": [
      "A =\n",
      "\n",
      "   4   3\n",
      "   1   2\n",
      "\n"
     ]
    }
   ],
   "source": [
    "A = magic(2)"
   ]
  },
  {
   "cell_type": "code",
   "execution_count": 18,
   "metadata": {},
   "outputs": [
    {
     "name": "stdout",
     "output_type": "stream",
     "text": [
      "ans = -151.35\n"
     ]
    },
    {
     "data": {
      "image/png": "[encoded data removed]",
      "text/plain": [
       "<IPython.core.display.Image object>"
      ]
     },
     "metadata": {},
     "output_type": "display_data"
    }
   ],
   "source": [
    "gersgorin(A)"
   ]
  },
  {
   "cell_type": "markdown",
   "metadata": {},
   "source": [
    "#### Hatványmódszer\n",
    "\n",
    "Legyen $A$ (az egyszerűség kedvéért) diagonalizálható mátrix, azaz tfh. a $\\{v_j\\}$ sajátvektorok bázist alkotnak, továbbá $\\lambda_1$ a domináns sajátérték (azaz $|\\lambda_1| > |\\lambda_j|$). \n",
    "\n",
    "Ha $x_0 = \\sum c_j v_j$ olyan vektor, amire $c_1 \\neq 0$, ekkor \n",
    "az \n",
    "$$\n",
    "x_n = A^n x_0 = \\sum c_j A^n v_j = \\sum c_j \\lambda_j^n v_j = c_1 \\lambda_1^n \\left(v_1 + \\sum_{j > 1} \\frac{c_j\\lambda_j^n}{c_1\\lambda_1^n} v_j \\right)\n",
    "$$\n",
    "\n",
    "sorozat $y_n$ normáltjára teljesül, hogy\n",
    "\n",
    "$$\n",
    "y_n = \\frac{x_n}{\\|x_n\\|} \\to \\iota \\frac{v_1}{\\|v_1\\|},\n",
    "$$\n",
    "\n",
    "ahol természetesen $|\\iota| = 1$.\n"
   ]
  },
  {
   "cell_type": "markdown",
   "metadata": {},
   "source": [
    "#### 2. feladat\n",
    "\n",
    "Implementáljuk a hatványmódszert."
   ]
  },
  {
   "cell_type": "markdown",
   "metadata": {},
   "source": []
  },
  {
   "cell_type": "markdown",
   "metadata": {},
   "source": [
    "#### PageRank-ish\n",
    "\n",
    "Tekintsünk a világháló egy kis részét. Tegyük fel, hogy minden oldalról vezet legalább egy másik oldalra link.\n",
    "\n",
    "\n",
    " 1. Legyen $\\tilde P$ olyan mátrix, amire $\\tilde P_{ij} = 1$ pontosan akkor, ha a $j.$ oldalról link vezet az $i.$-re, egyébként $\\tilde P_{ij} = 0$.\n",
    "\n",
    " 2. $\\tilde P$ oszlopainak egy-összegűvé normálásával hozzuk létre a $P$ mátrixot. Erre tekinthetünk úgy, hogy az $ij$ koordináta megadja annak a valószínűségét, hogy a böngésző a $j.$ oldalról az $i.$-re jut egy kattintással.\n",
    " \n",
    " 3. Gondoljuk meg, hogy ha az $x$ vektor tartalmazza az oldalakon tartózkodás valószínűségeit, akkor a $Px$ vektor az egy kattintással későbbi valószínűségeket fogja leírjni. \n",
    " \n",
    " Például ha egy valószínűséggel az első oldalon tartózkodunk, akkor az egy kattintással későbbi valószínűségeket pont a $P$ mátrix első oszlopa fogja megadni: \n",
    " \n",
    " $$x = [1, 0, \\ldots, 0]^T, Px = P_{:, 1}.$$\n",
    " \n",
    " 4. Mivel $P^T \\mathbf{1} = \\mathbf{1}$, így $1$ sajátértéke $P^T$-nek, azaz $P$-nek is. A Gersgorin-körök használatával gondoljuk meg, hogy ennél hosszabb sajátérték nem lehet.\n",
    " \n",
    " 5. Ha feltesszük, hogy kattintások sorozatával bármelyik oldalról eljuthatunk bármelyik másik oldalra, akkor a $P$ mátrix irreducibilis, és a Perron-Frobenius tétel miatt az egyhez tartozó sajátaltér egydimenziós, azaz a $P \\pi = \\pi $ egyenlet megoldása (konstans szorzó erejéig) egyértelmű. Egy-összegűvé normálva, a $\\pi$ vektort nevezzük stacionárius eloszlásnak, ez a hosszútávú viselkedés egy modellje.\n",
    " \n",
    " 6. Gondoljuk meg, hogy $P^n x$ határértékben intuitíve a végtelen sok kattintást követő eloszlást adja meg, majd az eddigek segítségével formalizáljuk ezt az állítást.\n",
    " \n",
    "A valóságban persze nem garantált, hogy minden oldalról el lehet jutni minden másik oldalra, így szokás feltételezni, hogy a böngésző egy alacsony $1-\\alpha$ valószínűséggel bármely oldalról egy kattintással eljuthat bármely másikra - ez egyébként a könyvjelzők használatának is lehet egy modellje. Ebben az esetben a $P$ mátrix helyett egy\n",
    "$$\n",
    " (1-\\alpha)\\frac{1}{n}E + \\alpha P \n",
    "$$\n",
    "alakút szokás tekinteni, ahol $E$ egy $n\\times n$-es csupa $1$ mátrix.\n",
    "\n",
    "A $\\pi$ valószínűségek közelítő értéke alapján az oldalak rangsorolhatók: például egy keresésnek megfelelő oldalakat lehet ebben a sorrendben visszaadni a felhasználónak."
   ]
  },
  {
   "cell_type": "markdown",
   "metadata": {},
   "source": [
    "#### 3*. feladat\n",
    "\n",
    "Implementáljuk az ismertetett algoritmust, és próbáljuk is ki valós vagy kitalált adatokon."
   ]
  },
  {
   "cell_type": "code",
   "execution_count": null,
   "metadata": {},
   "outputs": [],
   "source": []
  }
 ],
 "metadata": {
  "kernelspec": {
   "display_name": "Octave",
   "language": "octave",
   "name": "octave"
  },
  "language_info": {
   "file_extension": ".m",
   "help_links": [
    {
     "text": "GNU Octave",
     "url": "https://www.gnu.org/software/octave/support.html"
    },
    {
     "text": "Octave Kernel",
     "url": "https://github.com/Calysto/octave_kernel"
    },
    {
     "text": "MetaKernel Magics",
     "url": "https://metakernel.readthedocs.io/en/latest/source/README.html"
    }
   ],
   "mimetype": "text/x-octave",
   "name": "octave",
   "version": "5.2.0"
  }
 },
 "nbformat": 4,
 "nbformat_minor": 4
}
