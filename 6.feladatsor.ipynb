{
 "cells": [
  {
   "cell_type": "markdown",
   "metadata": {},
   "source": [
    "### 6. Feladatsor\n",
    "\n",
    "Konzisztencia rend, stabilitás 1."
   ]
  },
  {
   "cell_type": "markdown",
   "metadata": {},
   "source": [
    "#### Dahlquist-féle tesztegyenlet\n",
    "\n",
    "$$\n",
    "\\begin{align}\n",
    "     \\dot x = \\lambda x\n",
    "\\end{align}\n",
    "$$\n",
    "\n",
    "ahol $\\lambda \\in \\mathbb{C}$ paraméter. \n",
    "\n",
    "\n",
    "Megoldása: \n",
    "\n",
    "$$x(t) = c\\cdot e^{\\lambda t} = c\\cdot e^{(a+bi)t} = c\\cdot e^{a t} e^{ibt}.$$\n",
    "\n",
    "Ennek hossza\n",
    "$$ |x(t)| = |c| \\cdot e^{at},$$\n",
    "\n",
    "mely függvény monotonicitását $a$ előjele dönti el."
   ]
  },
  {
   "cell_type": "markdown",
   "metadata": {},
   "source": [
    "#### 1. Feladat\n",
    "\n",
    "Tekintsük a feladatot a $[0,1]$ intervallumon $\\lambda = 1$ paraméter, $x(0) = 1$ kezdetiérték mellett.\n",
    "\n",
    "a) Oldjuk meg az EE módszer segítségével, \n",
    "$$h = 10^{-k} \\quad (k=2, \\ldots, 5)$$ \n",
    "lépéshosszokkal."
   ]
  },
  {
   "cell_type": "code",
   "execution_count": null,
   "metadata": {},
   "outputs": [],
   "source": [
    "function [ts, ys] = explicit_euler(f, ts, y0)\n",
    "    ys = zeros(numel(y0), numel(ts));\n",
    "    ys(:, 1) = y0;\n",
    "    \n",
    "    for k=1:(numel(ts) - 1)\n",
    "        h = ts(k+1) - ts(k);\n",
    "        ys(:, k+1) = ys(:, k) + h * f(ts(k), ys(:, k));\n",
    "    end\n",
    "end"
   ]
  },
  {
   "cell_type": "code",
   "execution_count": null,
   "metadata": {},
   "outputs": [],
   "source": [
    "h = 10^(-5);\n",
    "[ts, ys] = explicit_euler(@(t, x)(x), 0:h:1, 1);"
   ]
  },
  {
   "cell_type": "markdown",
   "metadata": {},
   "source": [
    "b) Megoldásainkat hasonlítsuk össsze a pontos megoldással, a végeredmény legyen a hibavektorok (valamilyen normában mért) hossza."
   ]
  },
  {
   "cell_type": "code",
   "execution_count": null,
   "metadata": {},
   "outputs": [],
   "source": []
  },
  {
   "cell_type": "markdown",
   "metadata": {},
   "source": [
    "c) Az így kapott hibákat ábrázoljuk egy log-log ábrán."
   ]
  },
  {
   "cell_type": "code",
   "execution_count": null,
   "metadata": {},
   "outputs": [],
   "source": []
  },
  {
   "cell_type": "markdown",
   "metadata": {},
   "source": [
    "d) Hogy tudnánk a kapott adatokra egyenest illeszteni? Ránézésre mi lenne ennek a meredeksége?"
   ]
  },
  {
   "cell_type": "code",
   "execution_count": null,
   "metadata": {},
   "outputs": [],
   "source": []
  },
  {
   "cell_type": "markdown",
   "metadata": {},
   "source": [
    "#### 2. Feladat\n",
    "\n",
    "Mi történik amikor az EE módszert alkalmazzuk a tesztegyenletre?\n",
    "\n",
    "$$\n",
    "    y_{n+1} = y_n + h f(t_n, y_n) = y_n + h\\lambda y_n = (1 + z)y_n = R(z)y_n,\n",
    "$$\n",
    "\n",
    "ahol $\\mathbb{C} \\ni z = h\\lambda$ komplex szám egyszerre modellezi a feladatot és a lépéshosszt, az $R(z)$ stabilitási-függvény pedig a numerikus módszert."
   ]
  },
  {
   "cell_type": "markdown",
   "metadata": {},
   "source": [
    "Explicit módszer stabilitási-függvénye mindig polinom.\n",
    "\n",
    "A (lineáris) rendfeltételeket teljesítő módszerekre\n",
    "$$\n",
    "R(z) \\approx e^z,\n",
    "$$\n",
    "ahol a közelítés rendje megegyezik a módszer rendjével.\n",
    "\n",
    "Szükségszerűen az explicit módszerek stabilitási-függvényeinek első néhány tagja $e^z$ hatványsorának első néhány tagjával fog megegyezni. Például:\n",
    "$$\n",
    "    1 + z + \\frac{1}{2} z^2 \\approx e^z.\n",
    "$$"
   ]
  },
  {
   "cell_type": "markdown",
   "metadata": {},
   "source": [
    "Tudjuk, hogy ha $\\operatorname{Re}(\\lambda) \\leq 0$, akkor a pontos megoldás hossza időben monoton csökkenő. Igaz-e ez a numerikus megoldásra?\n",
    "\n",
    "$$\n",
    " | y_{n+1} | = |R(z)| |y_n| \\leq |y_n|,\n",
    "$$\n",
    "\n",
    "így világos, hogy a megfelelő feltétel a\n",
    "$$\n",
    " |R(z)| \\leq 1.\n",
    "$$"
   ]
  },
  {
   "cell_type": "code",
   "execution_count": null,
   "metadata": {},
   "outputs": [],
   "source": [
    "[X, Y] = meshgrid( linspace(-3, 3, 40), linspace(-3, 3, 40));\n",
    "Z = X + 1i*Y;"
   ]
  },
  {
   "cell_type": "markdown",
   "metadata": {},
   "source": [
    "a) Az EE módszer stabilitási függvénye $1+z$. Ábrázoljuk a stabilitási tartományát."
   ]
  },
  {
   "cell_type": "code",
   "execution_count": null,
   "metadata": {},
   "outputs": [],
   "source": [
    "% EE\n",
    "contourf(X, Y, abs(1 + Z), linspace(0, 1, 4), 'ShowText','on')\n",
    "colorbar\n",
    "grid on\n",
    "colormap summer"
   ]
  },
  {
   "cell_type": "markdown",
   "metadata": {},
   "source": [
    "b) A MPM stabilitási függvénye $1+z + \\frac{1}{2} z^2$. Ábrázoljuk a stabilitási tartományát."
   ]
  },
  {
   "cell_type": "code",
   "execution_count": null,
   "metadata": {},
   "outputs": [],
   "source": [
    "% MPM\n",
    "contourf(X, Y, abs(1 + Z + .5*Z.^2), [0, .5, 1], 'ShowText','on')\n",
    "colorbar\n",
    "grid on\n",
    "colormap summer"
   ]
  },
  {
   "cell_type": "markdown",
   "metadata": {},
   "source": [
    "c) Az IE módszer stabilitási függvénye $\\frac{1}{1-z}$. Ábrázoljuk a stabilitási tartományát."
   ]
  },
  {
   "cell_type": "code",
   "execution_count": null,
   "metadata": {},
   "outputs": [],
   "source": [
    "% IE\n",
    "contourf(X, Y, 1./abs(1-Z), [0, 1], 'ShowText','on')\n",
    "colorbar\n",
    "colormap summer\n",
    "grid on"
   ]
  },
  {
   "cell_type": "markdown",
   "metadata": {},
   "source": [
    "#### 3.* Feladat\n",
    "\n",
    "Írjunk függvényt, ami Butcher-tablója $(A,b)$ alapján ábrázolja a Runge-Kutta módszer stabilitási-tartományát.\n",
    "Felhasználhatjuk a\n",
    "\n",
    "$$\n",
    "R(z) = 1 + zb^T (I - zA)^{-1} e\n",
    "$$\n",
    "\n",
    "képletet, ahol $b$ oszlopvektor, $I$ egységmátrix, $e = [1, \\ldots, 1]^T$."
   ]
  },
  {
   "cell_type": "code",
   "execution_count": null,
   "metadata": {},
   "outputs": [],
   "source": [
    "function visualize_stability_area(A, b, xlims, ylims, ticks)\n",
    "    tic;\n",
    "    \n",
    "    [X, Y] = meshgrid(linspace(xlims(1), xlims(2), ticks),\n",
    "                      linspace(ylims(1), ylims(2), ticks));\n",
    "    Z = X + 1i*Y;\n",
    "\n",
    "    vecZ = Z(:);\n",
    "    \n",
    "    I  = eye(rows(A)*numel(vecZ));\n",
    "    e  = ones(rows(A)*numel(vecZ), 1);\n",
    "    bT = kron(eye(numel(vecZ)), b);\n",
    "        \n",
    "    Rz = 1 + vecZ .*  bT * ((I - kron(diag(vecZ), A))  \\ e);\n",
    "\n",
    "    contourf(X, Y, abs(reshape(Rz, size(Z))), [0, .25, .5, .75 1], 'ShowText','on')\n",
    "    colorbar\n",
    "    grid on\n",
    "    colormap summer\n",
    "    toc;\n",
    "end"
   ]
  },
  {
   "cell_type": "code",
   "execution_count": null,
   "metadata": {},
   "outputs": [],
   "source": [
    "% RK4\n",
    "\n",
    "A = [ 0, 0, 0, 0 \n",
    "     .5, 0, 0, 0\n",
    "      0,.5, 0, 0\n",
    "      0, 0, 1, 0];\n",
    "b = [ 1, 2, 2, 1]/6;\n",
    "\n",
    "visualize_stability_area(sparse(A), b, [-3 1], [-3 3], 40)"
   ]
  }
 ],
 "metadata": {
  "kernelspec": {
   "display_name": "Octave",
   "language": "octave",
   "name": "octave"
  },
  "language_info": {
   "file_extension": ".m",
   "help_links": [
    {
     "text": "GNU Octave",
     "url": "https://www.gnu.org/software/octave/support.html"
    },
    {
     "text": "Octave Kernel",
     "url": "https://github.com/Calysto/octave_kernel"
    },
    {
     "text": "MetaKernel Magics",
     "url": "https://metakernel.readthedocs.io/en/latest/source/README.html"
    }
   ],
   "mimetype": "text/x-octave",
   "name": "octave",
   "version": "5.2.0"
  }
 },
 "nbformat": 4,
 "nbformat_minor": 4
}
